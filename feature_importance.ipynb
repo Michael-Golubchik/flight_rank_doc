{
 "cells": [
  {
   "cell_type": "code",
   "execution_count": 1,
   "id": "16448ca9",
   "metadata": {},
   "outputs": [],
   "source": [
    "import polars as pl\n",
    "import pickle\n",
    "from common import Cfg"
   ]
  },
  {
   "cell_type": "code",
   "execution_count": 3,
   "id": "f1c599c7",
   "metadata": {},
   "outputs": [
    {
     "name": "stdout",
     "output_type": "stream",
     "text": [
      "                                                  feature    importance\n",
      "0                                         is_min_segments  18038.068359\n",
      "1                                           free_exchange    525.814697\n",
      "2                              legs0_segments1_cabinClass    282.423248\n",
      "3                                         avg_cabin_class    167.914963\n",
      "4              legs0_segments1_departureFrom_airport_iata    166.922791\n",
      "5                                             is_cheapest    162.626770\n",
      "6                                             free_cancel    145.830124\n",
      "7                              legs0_segments0_cabinClass    138.951385\n",
      "8  legs0_segments1_baggageAllowance_weightMeasurementType    116.882790\n",
      "9                                  pricingInfo_isAccessTP    108.453781\n"
     ]
    }
   ],
   "source": [
    "with open(Cfg.models_path, \"rb\") as f:\n",
    "    trained_models_xgb = pickle.load(f)\n",
    "\n",
    "model = trained_models_xgb[0]\n",
    "xgb_importance = model.get_score(importance_type='gain')\n",
    "xgb_importance_df = pl.DataFrame(\n",
    "    [{'feature': k, 'importance': v} for k, v in xgb_importance.items()]\n",
    ").sort('importance', descending=bool(1))\n",
    "print(xgb_importance_df.head(10).to_pandas().to_string())"
   ]
  },
  {
   "cell_type": "code",
   "execution_count": null,
   "id": "de9a7f3d",
   "metadata": {},
   "outputs": [],
   "source": []
  }
 ],
 "metadata": {
  "kernelspec": {
   "display_name": "gml-base",
   "language": "python",
   "name": "python3"
  },
  "language_info": {
   "codemirror_mode": {
    "name": "ipython",
    "version": 3
   },
   "file_extension": ".py",
   "mimetype": "text/x-python",
   "name": "python",
   "nbconvert_exporter": "python",
   "pygments_lexer": "ipython3",
   "version": "3.11.11"
  }
 },
 "nbformat": 4,
 "nbformat_minor": 5
}
